{
  "nbformat": 4,
  "nbformat_minor": 0,
  "metadata": {
    "colab": {
      "name": "Jonathan Ross - LS_DS_Unit2_Build - Part 2.ipynb",
      "provenance": [],
      "machine_shape": "hm"
    },
    "kernelspec": {
      "name": "python3",
      "display_name": "Python 3"
    }
  },
  "cells": [
    {
      "cell_type": "code",
      "metadata": {
        "id": "wxWz1G72SFn5",
        "colab_type": "code",
        "colab": {}
      },
      "source": [
        "import numpy as np \n",
        "import pandas as pd \n",
        "import dask.dataframe as dd\n",
        "import gc\n",
        "from tqdm import tqdm\n",
        "from sklearn.preprocessing import LabelEncoder\n",
        "\n",
        "\n",
        "pd.set_option('max_colwidth', 500)\n",
        "pd.set_option('max_columns', 500)\n",
        "pd.set_option('max_rows', 100)\n",
        "\n",
        "import sys\n",
        "if not sys.warnoptions:\n",
        "  import warnings\n",
        "  warnings.simplefilter('ignore')"
      ],
      "execution_count": 0,
      "outputs": []
    },
    {
      "cell_type": "code",
      "metadata": {
        "id": "DB3xI3pTSjGL",
        "colab_type": "code",
        "outputId": "c51cc1f8-8ed6-449c-fb5d-c526f8634325",
        "colab": {
          "base_uri": "https://localhost:8080/",
          "height": 34
        }
      },
      "source": [
        "from google.colab import drive\n",
        "drive.mount('/content/gdrive/')"
      ],
      "execution_count": 2,
      "outputs": [
        {
          "output_type": "stream",
          "text": [
            "Drive already mounted at /content/gdrive/; to attempt to forcibly remount, call drive.mount(\"/content/gdrive/\", force_remount=True).\n"
          ],
          "name": "stdout"
        }
      ]
    },
    {
      "cell_type": "code",
      "metadata": {
        "id": "k-REpSsKSkkp",
        "colab_type": "code",
        "colab": {}
      },
      "source": [
        "def reduce_mem_usage(df, verbose=True):\n",
        "  \"\"\"\n",
        "  Iterate through all the columns of a dataframe and modify the data types\n",
        "  to reduce memory usage.        \n",
        "  \"\"\"\n",
        "  df = df.copy()\n",
        "  \n",
        "  start_mem = df.memory_usage().sum() / 1024**2\n",
        "  start_mem_gb = start_mem / 1024\n",
        "  \n",
        "  numeric_dtype = ['int16', 'int32', 'int64', 'float16', 'float32', 'float64']\n",
        "  \n",
        "  for col in df:\n",
        "    col_type = str(df[col].dtypes)\n",
        "        \n",
        "    if col_type in numeric_dtype:\n",
        "      c_min = df[col].min()\n",
        "      c_max = df[col].max()\n",
        "      if col_type[:3] == 'int':\n",
        "        if c_min > np.iinfo(np.int8).min and c_max < np.iinfo(np.int8).max:\n",
        "          df[col] = df[col].astype(np.int8)\n",
        "        elif c_min > np.iinfo(np.int16).min and c_max < np.iinfo(np.int16).max:\n",
        "          df[col] = df[col].astype(np.int16)\n",
        "        elif c_min > np.iinfo(np.int32).min and c_max < np.iinfo(np.int32).max:\n",
        "          df[col] = df[col].astype(np.int32)\n",
        "        elif c_min > np.iinfo(np.int64).min and c_max < np.iinfo(np.int64).max:\n",
        "          df[col] = df[col].astype(np.int64)  \n",
        "      else:  # column is not int\n",
        "        if c_min > np.finfo(np.float16).min and c_max < np.finfo(np.float16).max:\n",
        "          df[col] = df[col].astype(np.float16)\n",
        "        elif c_min > np.finfo(np.float32).min and c_max < np.finfo(np.float32).max:\n",
        "          df[col] = df[col].astype(np.float32)\n",
        "        else:\n",
        "          df[col] = df[col].astype(np.float64)\n",
        "    else:  # column is an object\n",
        "      df[col] = df[col].astype('category')\n",
        "\n",
        "  end_mem = df.memory_usage().sum() / 1024**2\n",
        "  end_mem_gb = end_mem / 1024\n",
        "  \n",
        "  if verbose:\n",
        "    print(f'Memory usage of dataframe is {start_mem:.2f} MB',\n",
        "        f'/ {start_mem_gb:.2f} GB')\n",
        "    print(f'Memory usage after optimization is: {end_mem:.2f} MB',\n",
        "        f'/ {end_mem_gb:.2f} GB')\n",
        "    mem_dec = 100 * (start_mem - end_mem) / start_mem\n",
        "    print(f'Decreased by {mem_dec:.1f}%')\n",
        "    \n",
        "  return df\n",
        "\n",
        "\n",
        "def import_data(file, dtypes=None):\n",
        "  \"\"\"\n",
        "  Create a dataframe using dask for faster speed\n",
        "  \"\"\"\n",
        "\n",
        "  ddf = dd.read_csv(file, dtype=dtypes)\n",
        "  df = ddf.compute()\n",
        "  return df"
      ],
      "execution_count": 0,
      "outputs": []
    },
    {
      "cell_type": "code",
      "metadata": {
        "id": "WAB_JYJsSyUq",
        "colab_type": "code",
        "colab": {}
      },
      "source": [
        "dtypes = {\n",
        "        'MachineIdentifier':                                    'category',\n",
        "        'ProductName':                                          'category',\n",
        "        'EngineVersion':                                        'category',\n",
        "        'AppVersion':                                           'category',\n",
        "        'AvSigVersion':                                         'category',\n",
        "        'IsBeta':                                               'int8',\n",
        "        'RtpStateBitfield':                                     'float16',\n",
        "        'IsSxsPassiveMode':                                     'int8',\n",
        "        'DefaultBrowsersIdentifier':                            'float32',\n",
        "        'AVProductStatesIdentifier':                            'float32',\n",
        "        'AVProductsInstalled':                                  'float16',\n",
        "        'AVProductsEnabled':                                    'float16',\n",
        "        'HasTpm':                                               'int8',\n",
        "        'CountryIdentifier':                                    'int16',\n",
        "        'CityIdentifier':                                       'float32',\n",
        "        'OrganizationIdentifier':                               'float16',\n",
        "        'GeoNameIdentifier':                                    'float16',\n",
        "        'LocaleEnglishNameIdentifier':                          'int16',\n",
        "        'Platform':                                             'category',\n",
        "        'Processor':                                            'category',\n",
        "        'OsVer':                                                'category',\n",
        "        'OsBuild':                                              'int16',\n",
        "        'OsSuite':                                              'int16',\n",
        "        'OsPlatformSubRelease':                                 'category',\n",
        "        'OsBuildLab':                                           'category',\n",
        "        'SkuEdition':                                           'category',\n",
        "        'IsProtected':                                          'float16',\n",
        "        'AutoSampleOptIn':                                      'int8',\n",
        "        'PuaMode':                                              'category',\n",
        "        'SMode':                                                'float16',\n",
        "        'IeVerIdentifier':                                      'float16',\n",
        "        'SmartScreen':                                          'category',\n",
        "        'Firewall':                                             'float16',\n",
        "        'UacLuaenable':                                         'float64',\n",
        "        'Census_MDC2FormFactor':                                'category',\n",
        "        'Census_DeviceFamily':                                  'category',\n",
        "        'Census_OEMNameIdentifier':                             'float32',\n",
        "        'Census_OEMModelIdentifier':                            'float32',\n",
        "        'Census_ProcessorCoreCount':                            'float16',\n",
        "        'Census_ProcessorManufacturerIdentifier':               'float16',\n",
        "        'Census_ProcessorModelIdentifier':                      'float32',\n",
        "        'Census_ProcessorClass':                                'category',\n",
        "        'Census_PrimaryDiskTotalCapacity':                      'float64',\n",
        "        'Census_PrimaryDiskTypeName':                           'category',\n",
        "        'Census_SystemVolumeTotalCapacity':                     'float64',\n",
        "        'Census_HasOpticalDiskDrive':                           'int8',\n",
        "        'Census_TotalPhysicalRAM':                              'float32',\n",
        "        'Census_ChassisTypeName':                               'category',\n",
        "        'Census_InternalPrimaryDiagonalDisplaySizeInInches':    'float32',\n",
        "        'Census_InternalPrimaryDisplayResolutionHorizontal':    'float32',\n",
        "        'Census_InternalPrimaryDisplayResolutionVertical':      'float32',\n",
        "        'Census_PowerPlatformRoleName':                         'category',\n",
        "        'Census_InternalBatteryType':                           'category',\n",
        "        'Census_InternalBatteryNumberOfCharges':                'float64',\n",
        "        'Census_OSVersion':                                     'category',\n",
        "        'Census_OSArchitecture':                                'category',\n",
        "        'Census_OSBranch':                                      'category',\n",
        "        'Census_OSBuildNumber':                                 'int16',\n",
        "        'Census_OSBuildRevision':                               'int32',\n",
        "        'Census_OSEdition':                                     'category',\n",
        "        'Census_OSSkuName':                                     'category',\n",
        "        'Census_OSInstallTypeName':                             'category',\n",
        "        'Census_OSInstallLanguageIdentifier':                   'float16',\n",
        "        'Census_OSUILocaleIdentifier':                          'int16',\n",
        "        'Census_OSWUAutoUpdateOptionsName':                     'category',\n",
        "        'Census_IsPortableOperatingSystem':                     'int8',\n",
        "        'Census_GenuineStateName':                              'category',\n",
        "        'Census_ActivationChannel':                             'category',\n",
        "        'Census_IsFlightingInternal':                           'float16',\n",
        "        'Census_IsFlightsDisabled':                             'float16',\n",
        "        'Census_FlightRing':                                    'category',\n",
        "        'Census_ThresholdOptIn':                                'float16',\n",
        "        'Census_FirmwareManufacturerIdentifier':                'float16',\n",
        "        'Census_FirmwareVersionIdentifier':                     'float32',\n",
        "        'Census_IsSecureBootEnabled':                           'int8',\n",
        "        'Census_IsWIMBootEnabled':                              'float16',\n",
        "        'Census_IsVirtualDevice':                               'float16',\n",
        "        'Census_IsTouchEnabled':                                'int8',\n",
        "        'Census_IsPenCapable':                                  'int8',\n",
        "        'Census_IsAlwaysOnAlwaysConnectedCapable':              'float16',\n",
        "        'Wdft_IsGamer':                                         'float16',\n",
        "        'Wdft_RegionIdentifier':                                'float16',\n",
        "        'HasDetections':                                        'float16'\n",
        "}"
      ],
      "execution_count": 0,
      "outputs": []
    },
    {
      "cell_type": "code",
      "metadata": {
        "id": "Kh0k7cDzjYou",
        "colab_type": "code",
        "colab": {}
      },
      "source": [
        "nan_minus1 = ['Census_SystemVolumeTotalCapacity',\n",
        " 'AVProductStatesIdentifier',\n",
        " 'AVProductsInstalled',\n",
        " 'CountryIdentifier',\n",
        " 'CityIdentifier',\n",
        " 'OrganizationIdentifier',\n",
        " 'GeoNameIdentifier',\n",
        " 'LocaleEnglishNameIdentifier',\n",
        " 'OsBuild',\n",
        " 'OsSuite',\n",
        " 'IeVerIdentifier',\n",
        " 'Census_OEMNameIdentifier',\n",
        " 'Census_OEMModelIdentifier',\n",
        " 'Census_ProcessorCoreCount',\n",
        " 'Census_ProcessorManufacturerIdentifier',\n",
        " 'Census_ProcessorModelIdentifier',\n",
        " 'Census_PrimaryDiskTotalCapacity',\n",
        " 'Census_TotalPhysicalRAM',\n",
        " 'Census_InternalPrimaryDiagonalDisplaySizeInInches',\n",
        " 'Census_InternalPrimaryDisplayResolutionHorizontal',\n",
        " 'Census_InternalPrimaryDisplayResolutionVertical',\n",
        " 'Census_InternalBatteryNumberOfCharges',\n",
        " 'Census_OSBuildNumber',\n",
        " 'Census_OSBuildRevision',\n",
        " 'Census_OSInstallLanguageIdentifier',\n",
        " 'Census_OSUILocaleIdentifier',\n",
        " 'Census_FirmwareManufacturerIdentifier',\n",
        " 'Census_FirmwareVersionIdentifier',\n",
        " 'Wdft_RegionIdentifier',\n",
        " 'Census_SystemVolumeTotalCapacity',\n",
        " 'AVProductStatesIdentifier',\n",
        " 'AVProductsInstalled',\n",
        " 'CountryIdentifier',\n",
        " 'CityIdentifier',\n",
        " 'OrganizationIdentifier',\n",
        " 'GeoNameIdentifier',\n",
        " 'LocaleEnglishNameIdentifier',\n",
        " 'OsBuild',\n",
        " 'OsSuite',\n",
        " 'IeVerIdentifier',\n",
        " 'Census_OEMNameIdentifier',\n",
        " 'Census_OEMModelIdentifier',\n",
        " 'Census_ProcessorCoreCount',\n",
        " 'Census_ProcessorManufacturerIdentifier',\n",
        " 'Census_ProcessorModelIdentifier',\n",
        " 'Census_PrimaryDiskTotalCapacity',\n",
        " 'Census_TotalPhysicalRAM',\n",
        " 'Census_InternalPrimaryDiagonalDisplaySizeInInches',\n",
        " 'Census_InternalPrimaryDisplayResolutionHorizontal',\n",
        " 'Census_InternalPrimaryDisplayResolutionVertical',\n",
        " 'Census_InternalBatteryNumberOfCharges',\n",
        " 'Census_OSBuildNumber',\n",
        " 'Census_OSBuildRevision',\n",
        " 'Census_OSInstallLanguageIdentifier',\n",
        " 'Census_OSUILocaleIdentifier',\n",
        " 'Census_FirmwareManufacturerIdentifier',\n",
        " 'Census_FirmwareVersionIdentifier',\n",
        " 'Wdft_RegionIdentifier']\n",
        "\n",
        "nan_0 = ['Census_HasOpticalDiskDrive',\n",
        " 'Census_IsAlwaysOnAlwaysConnectedCapable',\n",
        " 'Census_IsSecureBootEnabled',\n",
        " 'Census_IsTouchEnabled',\n",
        " 'SMode',\n",
        " 'Wdft_IsGamer',\n",
        " 'Census_HasOpticalDiskDrive',\n",
        " 'Census_IsAlwaysOnAlwaysConnectedCapable',\n",
        " 'Census_IsSecureBootEnabled',\n",
        " 'Census_IsTouchEnabled',\n",
        " 'SMode',\n",
        " 'Wdft_IsGamer']\n",
        "\n",
        "nan_1 = ['IsProtected', 'IsProtected']"
      ],
      "execution_count": 0,
      "outputs": []
    },
    {
      "cell_type": "code",
      "metadata": {
        "id": "8J89g9B9kGMM",
        "colab_type": "code",
        "colab": {}
      },
      "source": [
        "for key in nan_minus1:\n",
        "  dtypes[key] = 'int32'\n",
        "\n",
        "for key in nan_1:\n",
        "  dtypes[key] = 'int8'\n",
        "\n",
        "for key in nan_0:\n",
        "  dtypes[key] = 'int8'"
      ],
      "execution_count": 0,
      "outputs": []
    },
    {
      "cell_type": "code",
      "metadata": {
        "id": "o7yeP_DpTYRz",
        "colab_type": "code",
        "colab": {}
      },
      "source": [
        "target = 'HasDetections'\n",
        "data_id = 'MachineIdentifier'\n",
        "file_path = 'gdrive/My Drive/build-unit-2-data/'"
      ],
      "execution_count": 0,
      "outputs": []
    },
    {
      "cell_type": "code",
      "metadata": {
        "id": "MI3GcHaBTZh5",
        "colab_type": "code",
        "outputId": "48bc0ed7-a93d-49c6-db42-05baaff5e06a",
        "colab": {
          "base_uri": "https://localhost:8080/",
          "height": 68
        }
      },
      "source": [
        "%time train = import_data(file_path + 'train_clean.csv', dtypes=dtypes)\n",
        "train.shape"
      ],
      "execution_count": 8,
      "outputs": [
        {
          "output_type": "stream",
          "text": [
            "CPU times: user 2min 43s, sys: 8.45 s, total: 2min 51s\n",
            "Wall time: 1min 49s\n"
          ],
          "name": "stdout"
        },
        {
          "output_type": "execute_result",
          "data": {
            "text/plain": [
              "(8921483, 61)"
            ]
          },
          "metadata": {
            "tags": []
          },
          "execution_count": 8
        }
      ]
    },
    {
      "cell_type": "code",
      "metadata": {
        "id": "HMmiTi7AUqmX",
        "colab_type": "code",
        "outputId": "16a07dec-5b6e-4437-c7c7-cf39231717f7",
        "colab": {
          "base_uri": "https://localhost:8080/",
          "height": 68
        }
      },
      "source": [
        "train = reduce_mem_usage(train)\n",
        "train[target] = train[target].astype('int8')"
      ],
      "execution_count": 9,
      "outputs": [
        {
          "output_type": "stream",
          "text": [
            "Memory usage of dataframe is 1834.90 MB / 1.79 GB\n",
            "Memory usage after optimization is: 1460.54 MB / 1.43 GB\n",
            "Decreased by 20.4%\n"
          ],
          "name": "stdout"
        }
      ]
    },
    {
      "cell_type": "code",
      "metadata": {
        "id": "-xQ3LBydVlqb",
        "colab_type": "code",
        "outputId": "8aa66749-eac5-4401-c8cd-e730dcc0ab9c",
        "colab": {
          "base_uri": "https://localhost:8080/",
          "height": 68
        }
      },
      "source": [
        "%time test = import_data(file_path + 'test_clean.csv', dtypes=dtypes)\n",
        "test.shape"
      ],
      "execution_count": 10,
      "outputs": [
        {
          "output_type": "stream",
          "text": [
            "CPU times: user 2min 26s, sys: 5.16 s, total: 2min 31s\n",
            "Wall time: 1min 29s\n"
          ],
          "name": "stdout"
        },
        {
          "output_type": "execute_result",
          "data": {
            "text/plain": [
              "(7853253, 61)"
            ]
          },
          "metadata": {
            "tags": []
          },
          "execution_count": 10
        }
      ]
    },
    {
      "cell_type": "code",
      "metadata": {
        "id": "OfStXFk5VwUn",
        "colab_type": "code",
        "outputId": "822f2932-2387-48b1-cf6d-e063e27e5a59",
        "colab": {
          "base_uri": "https://localhost:8080/",
          "height": 68
        }
      },
      "source": [
        "test = reduce_mem_usage(test)\n",
        "test[target] = test[target].fillna(-1)\n",
        "test[target] = test[target].astype('int8')"
      ],
      "execution_count": 11,
      "outputs": [
        {
          "output_type": "stream",
          "text": [
            "Memory usage of dataframe is 1653.57 MB / 1.61 GB\n",
            "Memory usage after optimization is: 1368.97 MB / 1.34 GB\n",
            "Decreased by 17.2%\n"
          ],
          "name": "stdout"
        }
      ]
    },
    {
      "cell_type": "markdown",
      "metadata": {
        "id": "4qI4IyakMVqx",
        "colab_type": "text"
      },
      "source": [
        "## Encode Features"
      ]
    },
    {
      "cell_type": "markdown",
      "metadata": {
        "id": "4b0c7gdXMYw1",
        "colab_type": "text"
      },
      "source": [
        "In order to get the machine learning models to work, we need to encode the data into integers so that the model will accept it. We will achieve this through two types of encoding:\n",
        "\n",
        "1. Label encoding: randomly transform the values to numbers between $0$ and $n-1$, where $n$ is the number of feature labels.\n",
        "2. Frequency encoding: transform the values to numbers between $0$ and $m$, where $m$ is the number of feature labels with a frequency $\\geq 2$, from highest to lowest frequency. This is a special type of label encoding."
      ]
    },
    {
      "cell_type": "code",
      "metadata": {
        "id": "nEvyXMy8WGcL",
        "colab_type": "code",
        "outputId": "209e4c42-e8ea-4ada-e78c-0d5769c3a059",
        "colab": {
          "base_uri": "https://localhost:8080/",
          "height": 34
        }
      },
      "source": [
        "df = pd.concat([train, test], sort=True)\n",
        "df.shape"
      ],
      "execution_count": 12,
      "outputs": [
        {
          "output_type": "execute_result",
          "data": {
            "text/plain": [
              "(16774736, 61)"
            ]
          },
          "metadata": {
            "tags": []
          },
          "execution_count": 12
        }
      ]
    },
    {
      "cell_type": "code",
      "metadata": {
        "id": "9o_DYVESWMQF",
        "colab_type": "code",
        "outputId": "8e60308c-9558-4889-9816-7f87c4bf4f8c",
        "colab": {
          "base_uri": "https://localhost:8080/",
          "height": 34
        }
      },
      "source": [
        "gc.enable()\n",
        "del test, train\n",
        "gc.collect()"
      ],
      "execution_count": 13,
      "outputs": [
        {
          "output_type": "execute_result",
          "data": {
            "text/plain": [
              "0"
            ]
          },
          "metadata": {
            "tags": []
          },
          "execution_count": 13
        }
      ]
    },
    {
      "cell_type": "code",
      "metadata": {
        "id": "aRrzMxhcWQ0d",
        "colab_type": "code",
        "outputId": "062a9207-f31f-4333-e2ae-dbf704cda8e5",
        "colab": {
          "base_uri": "https://localhost:8080/",
          "height": 68
        }
      },
      "source": [
        "df = reduce_mem_usage(df)\n",
        "df = df.reset_index()"
      ],
      "execution_count": 14,
      "outputs": [
        {
          "output_type": "stream",
          "text": [
            "Memory usage of dataframe is 3359.51 MB / 3.28 GB\n",
            "Memory usage after optimization is: 2768.14 MB / 2.70 GB\n",
            "Decreased by 17.6%\n"
          ],
          "name": "stdout"
        }
      ]
    },
    {
      "cell_type": "code",
      "metadata": {
        "id": "fScWvkHnYKUu",
        "colab_type": "code",
        "colab": {}
      },
      "source": [
        "freq_encoding_list = [\n",
        " 'EngineVersion',\n",
        " 'AppVersion',\n",
        " 'AvSigVersion',\n",
        " 'OsBuildLab',\n",
        " 'Census_OSVersion'\n",
        "]"
      ],
      "execution_count": 0,
      "outputs": []
    },
    {
      "cell_type": "code",
      "metadata": {
        "id": "xSB_NY6zYWt7",
        "colab_type": "code",
        "colab": {}
      },
      "source": [
        "features_by_hand = [\n",
        " 'MachineIdentifier',\n",
        " 'EngineVersion',\n",
        " 'AppVersion',\n",
        " 'AvSigVersion',\n",
        " 'Processor',\n",
        " 'OsPlatformSubRelease',\n",
        " 'OsBuildLab',\n",
        " 'SkuEdition',\n",
        " 'SmartScreen',\n",
        " 'Census_MDC2FormFactor',\n",
        " 'Census_PrimaryDiskTypeName',\n",
        " 'Census_ChassisTypeName',\n",
        " 'Census_PowerPlatformRoleName',\n",
        " 'Census_OSVersion',\n",
        " 'Census_OSArchitecture',\n",
        " 'Census_OSBranch',\n",
        " 'Census_OSEdition',\n",
        " 'Census_OSSkuName',\n",
        " 'Census_OSInstallTypeName',\n",
        " 'Census_OSWUAutoUpdateOptionsName',\n",
        " 'Census_GenuineStateName',\n",
        " 'Census_ActivationChannel',\n",
        " 'Census_FlightRing',\n",
        " 'Census_MDC2FormFactor_new' \n",
        "]"
      ],
      "execution_count": 0,
      "outputs": []
    },
    {
      "cell_type": "code",
      "metadata": {
        "colab_type": "code",
        "id": "vuuUzp6AFqnT",
        "colab": {}
      },
      "source": [
        "label_encoding_list = list(set(features_by_hand) - set(freq_encoding_list))\n",
        "label_encoding_list.remove(data_id)"
      ],
      "execution_count": 0,
      "outputs": []
    },
    {
      "cell_type": "code",
      "metadata": {
        "id": "acY2LT5jB5DR",
        "colab_type": "code",
        "colab": {}
      },
      "source": [
        "# Create a function for frequency encoding\n",
        "def frequency_encoding(feature):\n",
        "  # Count the number of values of each feature and reset the indices\n",
        "  t = df[feature].value_counts().reset_index()\n",
        "\n",
        "  # Build up a new index (old index is set to 'level_0')\n",
        "  t = t.reset_index()\n",
        "\n",
        "  # Set the old index 'level_0' for all values which only occur once to NaN\n",
        "  t.loc[t[feature] == 1, 'level_0'] = np.nan\n",
        "\n",
        "  # Reset the original index (= the value name) as index\n",
        "  t.set_index('index', inplace=True)\n",
        "\n",
        "  # Return the number of values which occur two or more times, add 1\n",
        "  max_label = t['level_0'].max() + 1\n",
        "\n",
        "  # Fill all NaNs to maximum label\n",
        "  t.fillna(max_label, inplace=True)\n",
        "\n",
        "  return t.to_dict()['level_0']"
      ],
      "execution_count": 0,
      "outputs": []
    },
    {
      "cell_type": "code",
      "metadata": {
        "id": "Rg4Xe5QjCbvk",
        "colab_type": "code",
        "colab": {}
      },
      "source": [
        "encoding_dict = dict()"
      ],
      "execution_count": 0,
      "outputs": []
    },
    {
      "cell_type": "code",
      "metadata": {
        "id": "TjJizKsTCiHV",
        "colab_type": "code",
        "outputId": "8314d427-63df-496b-a947-5cf34d9ec48a",
        "colab": {
          "base_uri": "https://localhost:8080/",
          "height": 34
        }
      },
      "source": [
        "# Encode all features in freq_encoding_list\n",
        "for feature in tqdm(freq_encoding_list):\n",
        "  freq_encoding_dict = frequency_encoding(feature)\n",
        "  df[feature] = df[feature].map(lambda x: freq_encoding_dict.get(x, np.nan))\n",
        "  df[feature] = df[feature].astype('int32')\n",
        "\n",
        "  encoding_dict[feature] = freq_encoding_dict"
      ],
      "execution_count": 20,
      "outputs": [
        {
          "output_type": "stream",
          "text": [
            "100%|██████████| 5/5 [00:01<00:00,  3.14it/s]\n"
          ],
          "name": "stderr"
        }
      ]
    },
    {
      "cell_type": "code",
      "metadata": {
        "id": "VSG40SvMDFGy",
        "colab_type": "code",
        "outputId": "05e74816-9a3d-4a5c-ab1b-0d7ce9ef766a",
        "colab": {
          "base_uri": "https://localhost:8080/",
          "height": 34
        }
      },
      "source": [
        "# Encode all features in label_encoding_list\n",
        "for feature in tqdm(label_encoding_list):\n",
        "  le = LabelEncoder()\n",
        "  df[feature] = le.fit_transform(df[feature])\n",
        "  df[feature] = df[feature].astype('int32')\n",
        "\n",
        "  encoding_dict[feature] = le"
      ],
      "execution_count": 21,
      "outputs": [
        {
          "output_type": "stream",
          "text": [
            "100%|██████████| 18/18 [00:49<00:00,  2.72s/it]\n"
          ],
          "name": "stderr"
        }
      ]
    },
    {
      "cell_type": "code",
      "metadata": {
        "id": "JYmAKGSPDrh1",
        "colab_type": "code",
        "outputId": "094f133b-26b4-4058-bc15-943b8f354a3c",
        "colab": {
          "base_uri": "https://localhost:8080/",
          "height": 34
        }
      },
      "source": [
        "# Restore training data\n",
        "train = df[df[target] != -1]\n",
        "train.shape"
      ],
      "execution_count": 29,
      "outputs": [
        {
          "output_type": "execute_result",
          "data": {
            "text/plain": [
              "(8921483, 62)"
            ]
          },
          "metadata": {
            "tags": []
          },
          "execution_count": 29
        }
      ]
    },
    {
      "cell_type": "code",
      "metadata": {
        "id": "4H8ZcAxdEICF",
        "colab_type": "code",
        "outputId": "02fe1fce-5666-4b7c-fc2c-514627f98390",
        "colab": {
          "base_uri": "https://localhost:8080/",
          "height": 34
        }
      },
      "source": [
        "# Restore test data\n",
        "test = df[df[target] == -1]\n",
        "test.shape"
      ],
      "execution_count": 27,
      "outputs": [
        {
          "output_type": "execute_result",
          "data": {
            "text/plain": [
              "(7853253, 62)"
            ]
          },
          "metadata": {
            "tags": []
          },
          "execution_count": 27
        }
      ]
    },
    {
      "cell_type": "code",
      "metadata": {
        "id": "smBtFhj-EMuB",
        "colab_type": "code",
        "colab": {
          "base_uri": "https://localhost:8080/",
          "height": 85
        },
        "outputId": "58b6030e-c3a8-4688-87cf-1a7bfa20072d"
      },
      "source": [
        "# Save cleaned, feature engineered, and encoded data\n",
        "%time train.to_csv(file_path + 'train_modelready.csv', index=False)\n",
        "%time test.to_csv(file_path + 'test_modelready.csv', index=False)"
      ],
      "execution_count": 30,
      "outputs": [
        {
          "output_type": "stream",
          "text": [
            "CPU times: user 7min 4s, sys: 3.25 s, total: 7min 7s\n",
            "Wall time: 7min 15s\n",
            "CPU times: user 6min 16s, sys: 2.51 s, total: 6min 19s\n",
            "Wall time: 6min 54s\n"
          ],
          "name": "stdout"
        }
      ]
    },
    {
      "cell_type": "code",
      "metadata": {
        "id": "AREq7o7vZoUZ",
        "colab_type": "code",
        "colab": {
          "base_uri": "https://localhost:8080/",
          "height": 34
        },
        "outputId": "e79b9d9d-26b9-4fda-99f5-545aef0d6f89"
      },
      "source": [
        "encoding_dict['SmartScreen']"
      ],
      "execution_count": 32,
      "outputs": [
        {
          "output_type": "execute_result",
          "data": {
            "text/plain": [
              "LabelEncoder()"
            ]
          },
          "metadata": {
            "tags": []
          },
          "execution_count": 32
        }
      ]
    },
    {
      "cell_type": "code",
      "metadata": {
        "id": "QtdfnW2QGwML",
        "colab_type": "code",
        "colab": {}
      },
      "source": [
        ""
      ],
      "execution_count": 0,
      "outputs": []
    }
  ]
}